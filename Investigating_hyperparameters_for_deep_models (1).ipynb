{
  "cells": [
    {
      "cell_type": "markdown",
      "metadata": {
        "id": "oPtPWg0kY6-s"
      },
      "source": [
        "#Import"
      ]
    },
    {
      "cell_type": "code",
      "execution_count": 1,
      "metadata": {
        "id": "Lbwa9IZVZAPO"
      },
      "outputs": [],
      "source": [
        "import pandas as pd\n",
        "from tensorflow.keras.preprocessing.text import Tokenizer\n",
        "from tensorflow.keras.preprocessing.sequence import pad_sequences\n",
        "from tensorflow.keras.models import Sequential\n",
        "from tensorflow.keras.layers import Embedding, LSTM, Dense\n",
        "from sklearn.model_selection import train_test_split\n",
        "from sklearn.metrics import accuracy_score\n",
        "import numpy as np"
      ]
    },
    {
      "cell_type": "code",
      "execution_count": 2,
      "metadata": {
        "colab": {
          "base_uri": "https://localhost:8080/"
        },
        "id": "bC6Lqh7iZbpO",
        "outputId": "f57f9c8d-bdcf-4497-c1ea-02d79734062c"
      },
      "outputs": [
        {
          "output_type": "stream",
          "name": "stdout",
          "text": [
            "  label                                            message\n",
            "0   ham  Go until jurong point, crazy.. Available only ...\n",
            "1   ham                      Ok lar... Joking wif u oni...\n",
            "2  spam  Free entry in 2 a wkly comp to win FA Cup fina...\n",
            "3   ham  U dun say so early hor... U c already then say...\n",
            "4   ham  Nah I don't think he goes to usf, he lives aro...\n",
            "<class 'pandas.core.frame.DataFrame'>\n",
            "RangeIndex: 5572 entries, 0 to 5571\n",
            "Data columns (total 2 columns):\n",
            " #   Column   Non-Null Count  Dtype \n",
            "---  ------   --------------  ----- \n",
            " 0   label    5572 non-null   object\n",
            " 1   message  5572 non-null   object\n",
            "dtypes: object(2)\n",
            "memory usage: 87.2+ KB\n",
            "None\n"
          ]
        }
      ],
      "source": [
        "# بارگذاری داده‌ها\n",
        "url = \"https://raw.githubusercontent.com/justmarkham/DAT8/master/data/sms.tsv\"\n",
        "data = pd.read_csv(url, sep='\\t', header=None, names=['label', 'message'])\n",
        "\n",
        "# نمایش چند سطر از داده‌ها برای بررسی\n",
        "print(data.head())\n",
        "\n",
        "# نمایش اطلاعات کلی از داده‌ها\n",
        "print(data.info())\n"
      ]
    },
    {
      "cell_type": "code",
      "source": [
        "pip install tabulate"
      ],
      "metadata": {
        "colab": {
          "base_uri": "https://localhost:8080/"
        },
        "id": "F8l3CmGmtLDm",
        "outputId": "e2abc585-c013-47a9-b21e-0a875913c1a2"
      },
      "execution_count": 4,
      "outputs": [
        {
          "output_type": "stream",
          "name": "stdout",
          "text": [
            "Requirement already satisfied: tabulate in /usr/local/lib/python3.10/dist-packages (0.9.0)\n"
          ]
        }
      ]
    },
    {
      "cell_type": "code",
      "source": [
        "import pandas as pd\n",
        "import numpy as np\n",
        "from tabulate import tabulate\n",
        "\n",
        "# فرض کنید data یک DataFrame است\n",
        "data = pd.DataFrame({\n",
        "    'label': ['spam', 'ham', np.nan, 'spam', 'ham'],\n",
        "    'message': ['Free entry in 2 a wkly comp', 'Hey there!', 'NaN', 'Call now!', 'How are you?']\n",
        "})\n",
        "\n",
        "# بررسی وجود مقادیر NaN\n",
        "nan_counts = data.isna().sum()\n",
        "\n",
        "# حذف سطرهایی که برچسب یا پیام آنها NaN است\n",
        "data.dropna(subset=['label', 'message'], inplace=True)\n",
        "\n",
        "# بررسی تعداد داده‌ها پس از حذف NaN\n",
        "num_samples_after_dropping = len(data)\n",
        "\n",
        "# نمایش خروجی به صورت جدولی\n",
        "output = pd.DataFrame({\n",
        "    'Column': nan_counts.index,\n",
        "    'NaN Count': nan_counts.values\n",
        "})\n",
        "\n",
        "# افزودن تعداد نمونه‌ها پس از حذف NaN به خروجی\n",
        "num_samples_output = pd.DataFrame({\n",
        "    'Description': ['Number of samples after removing NaN values'],\n",
        "    'Value': [num_samples_after_dropping]\n",
        "})\n",
        "\n",
        "print(tabulate(output, headers='keys', tablefmt='pretty'))\n",
        "print(tabulate(num_samples_output, headers='keys', tablefmt='pretty'))\n"
      ],
      "metadata": {
        "colab": {
          "base_uri": "https://localhost:8080/"
        },
        "id": "l2Chs4ZstqKk",
        "outputId": "3c34da17-0281-408f-bf46-12b2a413905f"
      },
      "execution_count": 5,
      "outputs": [
        {
          "output_type": "stream",
          "name": "stdout",
          "text": [
            "+---+---------+-----------+\n",
            "|   | Column  | NaN Count |\n",
            "+---+---------+-----------+\n",
            "| 0 |  label  |     1     |\n",
            "| 1 | message |     0     |\n",
            "+---+---------+-----------+\n",
            "+---+---------------------------------------------+-------+\n",
            "|   |                 Description                 | Value |\n",
            "+---+---------------------------------------------+-------+\n",
            "| 0 | Number of samples after removing NaN values |   4   |\n",
            "+---+---------------------------------------------+-------+\n"
          ]
        }
      ]
    },
    {
      "cell_type": "code",
      "source": [
        "import numpy as np\n",
        "import pandas as pd\n",
        "import seaborn as sns\n",
        "import matplotlib.pyplot as plt\n",
        "from tensorflow.keras.preprocessing.text import Tokenizer\n",
        "from tensorflow.keras.preprocessing.sequence import pad_sequences\n",
        "from tensorflow.keras.models import Sequential\n",
        "from tensorflow.keras.layers import Embedding, LSTM, Dense\n",
        "from sklearn.model_selection import train_test_split\n",
        "from sklearn.metrics import accuracy_score\n",
        "from tabulate import tabulate\n",
        "\n",
        "# بارگذاری داده‌ها\n",
        "url = \"https://raw.githubusercontent.com/justmarkham/DAT8/master/data/sms.tsv\"\n",
        "data = pd.read_csv(url, sep='\\t', header=None, names=['label', 'message'])\n",
        "\n",
        "# تبدیل برچسب‌ها به اعداد (0 برای ham و 1 برای spam)\n",
        "data['label'] = data['label'].map({'ham': 0, 'spam': 1})\n",
        "\n",
        "# حذف سطرهایی که برچسب یا پیام آنها NaN است\n",
        "data.dropna(subset=['label', 'message'], inplace=True)\n",
        "\n",
        "# بررسی تعداد داده‌ها پس از حذف NaN\n",
        "num_samples_after_dropping = len(data)\n",
        "\n",
        "# تقسیم داده‌ها به ویژگی‌ها و برچسب‌ها\n",
        "X = data['message'].values\n",
        "y = data['label'].values\n",
        "\n",
        "# تبدیل متن‌ها به توالی‌های اعداد\n",
        "vocab_size = 10000\n",
        "tokenizer = Tokenizer(num_words=vocab_size)\n",
        "tokenizer.fit_on_texts(X)\n",
        "X = tokenizer.texts_to_sequences(X)\n",
        "\n",
        "# پدینگ کردن توالی‌ها به طول ثابت\n",
        "maxlen = 100\n",
        "X = pad_sequences(X, maxlen=maxlen)\n",
        "\n",
        "# تقسیم داده‌ها به مجموعه آموزش و تست\n",
        "X_train, X_test, y_train, y_test = train_test_split(X, y, test_size=0.2, random_state=42)\n",
        "\n",
        "# بررسی وجود NaN در y_test\n",
        "if np.any(np.isnan(y_test)):\n",
        "    nan_check = \"NaN values found in y_test.\"\n",
        "else:\n",
        "    nan_check = \"No NaN values found in y_test.\"\n",
        "\n",
        "def create_model(hidden_layers, hidden_size, activation='relu'):\n",
        "    model = Sequential()\n",
        "    model.add(Embedding(input_dim=vocab_size, output_dim=64, input_length=maxlen))\n",
        "    model.add(LSTM(64, return_sequences=False))  # return_sequences=False برای آخرین لایه LSTM\n",
        "    for _ in range(hidden_layers):\n",
        "        model.add(Dense(hidden_size, activation=activation))\n",
        "    model.add(Dense(1, activation='sigmoid'))\n",
        "    model.compile(optimizer='adam', loss='binary_crossentropy', metrics=['accuracy'])\n",
        "    return model\n",
        "\n",
        "# ارزیابی تاثیر تعداد لایه‌های مخفی\n",
        "hidden_layers_options = [0, 1, 2, 3, 4, 5]\n",
        "results = []\n",
        "\n",
        "for hidden_layers in hidden_layers_options:\n",
        "    model = create_model(hidden_layers, hidden_size=64)\n",
        "    model.fit(X_train, y_train, epochs=5, batch_size=32, validation_split=0.2, verbose=0)\n",
        "    y_pred = (model.predict(X_test) > 0.5).astype(\"int32\")\n",
        "    accuracy = accuracy_score(y_test, y_pred)\n",
        "    results.append((hidden_layers, accuracy))\n",
        "\n",
        "# نمایش نتایج\n",
        "results_table = pd.DataFrame(results, columns=['Hidden Layers', 'Accuracy'])\n",
        "print(tabulate(results_table, headers='keys', tablefmt='pretty'))\n",
        "\n",
        "# نمایش تعداد داده‌ها پس از حذف NaN و بررسی NaN در y_test\n",
        "info_table = pd.DataFrame({\n",
        "    'Description': ['Number of samples after removing NaN values', 'NaN check in y_test'],\n",
        "    'Value': [num_samples_after_dropping, nan_check]\n",
        "})\n",
        "print(tabulate(info_table, headers='keys', tablefmt='pretty'))\n",
        "\n",
        "# رسم نمودار\n",
        "sns.set(style=\"whitegrid\")\n",
        "plt.figure(figsize=(10, 6))\n",
        "ax = sns.barplot(x='Hidden Layers', y='Accuracy', data=results_table)\n",
        "ax.set_title('Accuracy vs. Number of Hidden Layers')\n",
        "ax.set_ylim(0.95, 1.0)\n",
        "for p in ax.patches:\n",
        "    ax.annotate(f'{p.get_height():.4f}', (p.get_x() + p.get_width() / 2., p.get_height()),\n",
        "                ha='center', va='baseline', fontsize=12, color='black', xytext=(0, 5),\n",
        "                textcoords='offset points')\n",
        "plt.show()\n"
      ],
      "metadata": {
        "colab": {
          "base_uri": "https://localhost:8080/",
          "height": 955
        },
        "id": "V8s5VxpMwN1Q",
        "outputId": "0179fe1e-eef5-4740-a7c6-1dc07efe7a62"
      },
      "execution_count": 7,
      "outputs": [
        {
          "output_type": "stream",
          "name": "stdout",
          "text": [
            "35/35 [==============================] - 1s 20ms/step\n",
            "35/35 [==============================] - 1s 19ms/step\n",
            "35/35 [==============================] - 1s 18ms/step\n",
            "35/35 [==============================] - 1s 21ms/step\n",
            "35/35 [==============================] - 1s 19ms/step\n",
            "35/35 [==============================] - 2s 29ms/step\n",
            "+---+---------------+--------------------+\n",
            "|   | Hidden Layers |      Accuracy      |\n",
            "+---+---------------+--------------------+\n",
            "| 0 |      0.0      | 0.9910313901345291 |\n",
            "| 1 |      1.0      | 0.9883408071748879 |\n",
            "| 2 |      2.0      | 0.989237668161435  |\n",
            "| 3 |      3.0      | 0.9901345291479821 |\n",
            "| 4 |      4.0      | 0.989237668161435  |\n",
            "| 5 |      5.0      | 0.989237668161435  |\n",
            "+---+---------------+--------------------+\n",
            "+---+---------------------------------------------+--------------------------------+\n",
            "|   |                 Description                 |             Value              |\n",
            "+---+---------------------------------------------+--------------------------------+\n",
            "| 0 | Number of samples after removing NaN values |              5572              |\n",
            "| 1 |             NaN check in y_test             | No NaN values found in y_test. |\n",
            "+---+---------------------------------------------+--------------------------------+\n"
          ]
        },
        {
          "output_type": "display_data",
          "data": {
            "text/plain": [
              "<Figure size 1000x600 with 1 Axes>"
            ],
            "image/png": "[encoded data removed]"
          },
          "metadata": {}
        }
      ]
    },
    {
      "cell_type": "code",
      "source": [
        "import numpy as np\n",
        "import pandas as pd\n",
        "import seaborn as sns\n",
        "import matplotlib.pyplot as plt\n",
        "from tensorflow.keras.preprocessing.text import Tokenizer\n",
        "from tensorflow.keras.preprocessing.sequence import pad_sequences\n",
        "from tensorflow.keras.models import Sequential\n",
        "from tensorflow.keras.layers import Embedding, LSTM, Dense\n",
        "from sklearn.model_selection import train_test_split\n",
        "from sklearn.metrics import accuracy_score\n",
        "from tabulate import tabulate\n",
        "\n",
        "# بارگذاری داده‌ها\n",
        "url = \"https://raw.githubusercontent.com/justmarkham/DAT8/master/data/sms.tsv\"\n",
        "data = pd.read_csv(url, sep='\\t', header=None, names=['label', 'message'])\n",
        "\n",
        "# تبدیل برچسب‌ها به اعداد (0 برای ham و 1 برای spam)\n",
        "data['label'] = data['label'].map({'ham': 0, 'spam': 1})\n",
        "\n",
        "# حذف سطرهایی که برچسب یا پیام آنها NaN است\n",
        "data.dropna(subset=['label', 'message'], inplace=True)\n",
        "\n",
        "# بررسی تعداد داده‌ها پس از حذف NaN\n",
        "num_samples_after_dropping = len(data)\n",
        "\n",
        "# تقسیم داده‌ها به ویژگی‌ها و برچسب‌ها\n",
        "X = data['message'].values\n",
        "y = data['label'].values\n",
        "\n",
        "# تبدیل متن‌ها به توالی‌های اعداد\n",
        "vocab_sizes = [8000, 5000, 2000]\n",
        "results = []\n",
        "\n",
        "for vocab_size in vocab_sizes:\n",
        "    tokenizer = Tokenizer(num_words=vocab_size)\n",
        "    tokenizer.fit_on_texts(X)\n",
        "    X_seq = tokenizer.texts_to_sequences(X)\n",
        "\n",
        "    # پدینگ کردن توالی‌ها به طول ثابت\n",
        "    maxlen = 100\n",
        "    X_pad = pad_sequences(X_seq, maxlen=maxlen)\n",
        "\n",
        "    # تقسیم داده‌ها به مجموعه آموزش و تست\n",
        "    X_train, X_test, y_train, y_test = train_test_split(X_pad, y, test_size=0.2, random_state=42)\n",
        "\n",
        "    def create_model(hidden_layers, hidden_size, activation='relu'):\n",
        "        model = Sequential()\n",
        "        model.add(Embedding(input_dim=vocab_size, output_dim=64, input_length=maxlen))\n",
        "        model.add(LSTM(64, return_sequences=False))  # return_sequences=False برای آخرین لایه LSTM\n",
        "        for _ in range(hidden_layers):\n",
        "            model.add(Dense(hidden_size, activation=activation))\n",
        "        model.add(Dense(1, activation='sigmoid'))\n",
        "        model.compile(optimizer='adam', loss='binary_crossentropy', metrics=['accuracy'])\n",
        "        return model\n",
        "\n",
        "    # ارزیابی تاثیر تعداد لایه‌های مخفی\n",
        "    hidden_layers = 2  # ثابت نگه داشتن تعداد لایه‌های مخفی\n",
        "    hidden_size = 64  # ثابت نگه داشتن اندازه لایه‌های مخفی\n",
        "    model = create_model(hidden_layers, hidden_size)\n",
        "    model.fit(X_train, y_train, epochs=5, batch_size=32, validation_split=0.2, verbose=0)\n",
        "    y_pred = (model.predict(X_test) > 0.5).astype(\"int32\")\n",
        "    accuracy = accuracy_score(y_test, y_pred)\n",
        "    results.append((vocab_size, accuracy))\n",
        "\n",
        "# نمایش نتایج\n",
        "results_table = pd.DataFrame(results, columns=['Vocab Size', 'Accuracy'])\n",
        "print(tabulate(results_table, headers='keys', tablefmt='pretty'))\n",
        "\n",
        "# رسم نمودار\n",
        "sns.set(style=\"whitegrid\")\n",
        "plt.figure(figsize=(10, 6))\n",
        "ax = sns.barplot(x='Vocab Size', y='Accuracy', data=results_table)\n",
        "ax.set_title('Accuracy vs. Vocab Size')\n",
        "ax.set_ylim(0.95, 1.0)\n",
        "for p in ax.patches:\n",
        "    ax.annotate(f'{p.get_height():.4f}', (p.get_x() + p.get_width() / 2., p.get_height()),\n",
        "                ha='center', va='baseline', fontsize=12, color='black', xytext=(0, 5),\n",
        "                textcoords='offset points')\n",
        "plt.show()\n",
        "\n",
        "# نمایش تعداد داده‌ها پس از حذف NaN\n",
        "info_table = pd.DataFrame({\n",
        "    'Description': ['Number of samples after removing NaN values'],\n",
        "    'Value': [num_samples_after_dropping]\n",
        "})\n",
        "print(tabulate(info_table, headers='keys', tablefmt='pretty'))\n"
      ],
      "metadata": {
        "colab": {
          "base_uri": "https://localhost:8080/",
          "height": 833
        },
        "id": "8JkTloWkyTrd",
        "outputId": "aa40192f-f1b2-4e63-c175-ee000a86ced9"
      },
      "execution_count": 8,
      "outputs": [
        {
          "output_type": "stream",
          "name": "stdout",
          "text": [
            "35/35 [==============================] - 1s 25ms/step\n",
            "35/35 [==============================] - 1s 20ms/step\n",
            "35/35 [==============================] - 1s 19ms/step\n",
            "+---+------------+--------------------+\n",
            "|   | Vocab Size |      Accuracy      |\n",
            "+---+------------+--------------------+\n",
            "| 0 |   8000.0   | 0.9919282511210762 |\n",
            "| 1 |   5000.0   | 0.9901345291479821 |\n",
            "| 2 |   2000.0   | 0.9928251121076234 |\n",
            "+---+------------+--------------------+\n"
          ]
        },
        {
          "output_type": "display_data",
          "data": {
            "text/plain": [
              "<Figure size 1000x600 with 1 Axes>"
            ],
            "image/png": "[encoded data removed]"
          },
          "metadata": {}
        },
        {
          "output_type": "stream",
          "name": "stdout",
          "text": [
            "+---+---------------------------------------------+-------+\n",
            "|   |                 Description                 | Value |\n",
            "+---+---------------------------------------------+-------+\n",
            "| 0 | Number of samples after removing NaN values | 5572  |\n",
            "+---+---------------------------------------------+-------+\n"
          ]
        }
      ]
    },
    {
      "cell_type": "code",
      "source": [
        "import numpy as np\n",
        "import pandas as pd\n",
        "from tensorflow.keras.preprocessing.text import Tokenizer\n",
        "from tensorflow.keras.preprocessing.sequence import pad_sequences\n",
        "from tensorflow.keras.models import Sequential\n",
        "from tensorflow.keras.layers import Embedding, LSTM, Dense\n",
        "from sklearn.model_selection import train_test_split\n",
        "from sklearn.metrics import accuracy_score\n",
        "\n",
        "# بارگذاری داده‌ها\n",
        "url = \"https://raw.githubusercontent.com/justmarkham/DAT8/master/data/sms.tsv\"\n",
        "data = pd.read_csv(url, sep='\\t', header=None, names=['label', 'message'])\n",
        "\n",
        "# تبدیل برچسب‌ها به اعداد (0 برای ham و 1 برای spam)\n",
        "data['label'] = data['label'].map({'ham': 0, 'spam': 1})\n",
        "\n",
        "# حذف سطرهایی که برچسب یا پیام آنها NaN است\n",
        "data.dropna(subset=['label', 'message'], inplace=True)\n",
        "\n",
        "# بررسی تعداد داده‌ها پس از حذف NaN\n",
        "print(f\"Number of samples after removing NaN values: {len(data)}\")\n",
        "\n",
        "# تقسیم داده‌ها به ویژگی‌ها و برچسب‌ها\n",
        "X = data['message'].values\n",
        "y = data['label'].values\n",
        "\n",
        "# تبدیل متن‌ها به توالی‌های اعداد\n",
        "vocab_size = 10000\n",
        "tokenizer = Tokenizer(num_words=vocab_size)\n",
        "tokenizer.fit_on_texts(X)\n",
        "X_seq = tokenizer.texts_to_sequences(X)\n",
        "\n",
        "# پدینگ کردن توالی‌ها به طول ثابت\n",
        "maxlen = 100\n",
        "X_pad = pad_sequences(X_seq, maxlen=maxlen)\n",
        "\n",
        "# تقسیم داده‌ها به مجموعه آموزش و تست\n",
        "X_train, X_test, y_train, y_test = train_test_split(X_pad, y, test_size=0.2, random_state=42)\n",
        "\n",
        "def create_model(hidden_layers, hidden_size, activation='relu'):\n",
        "    model = Sequential()\n",
        "    model.add(Embedding(input_dim=vocab_size, output_dim=64, input_length=maxlen))\n",
        "    model.add(LSTM(64, return_sequences=False))  # return_sequences=False برای آخرین لایه LSTM\n",
        "    for _ in range(hidden_layers):\n",
        "        model.add(Dense(hidden_size, activation=activation))\n",
        "    model.add(Dense(1, activation='sigmoid'))\n",
        "    model.compile(optimizer='adam', loss='binary_crossentropy', metrics=['accuracy'])\n",
        "    return model\n",
        "\n",
        "# ارزیابی تاثیر توابع فعال‌سازی مختلف\n",
        "activation_functions = ['relu', 'sigmoid', 'linear']\n",
        "results = []\n",
        "\n",
        "for activation in activation_functions:\n",
        "    hidden_layers = 2  # ثابت نگه داشتن تعداد لایه‌های مخفی\n",
        "    hidden_size = 64  # ثابت نگه داشتن اندازه لایه‌های مخفی\n",
        "    model = create_model(hidden_layers, hidden_size, activation=activation)\n",
        "    model.fit(X_train, y_train, epochs=5, batch_size=32, validation_split=0.2, verbose=0)\n",
        "    y_pred = (model.predict(X_test) > 0.5).astype(\"int32\")\n",
        "    accuracy = accuracy_score(y_test, y_pred)\n",
        "    results.append((activation, accuracy))\n",
        "    print(f'Activation Function: {activation}, Accuracy: {accuracy:.4f}')\n",
        "\n",
        "# نمایش نتایج\n",
        "for activation, accuracy in results:\n",
        "    print(f'Activation Function: {activation}, Accuracy: {accuracy:.4f}')\n"
      ],
      "metadata": {
        "colab": {
          "base_uri": "https://localhost:8080/"
        },
        "id": "f4PuphFinMl_",
        "outputId": "0ef4d3cb-d221-406c-bcd2-ff1ba4fe8de0"
      },
      "execution_count": null,
      "outputs": [
        {
          "output_type": "stream",
          "name": "stdout",
          "text": [
            "Number of samples after removing NaN values: 5572\n",
            "35/35 [==============================] - 1s 16ms/step\n",
            "Activation Function: relu, Accuracy: 0.9910\n",
            "35/35 [==============================] - 1s 14ms/step\n",
            "Activation Function: sigmoid, Accuracy: 0.9901\n",
            "35/35 [==============================] - 1s 15ms/step\n",
            "Activation Function: linear, Accuracy: 0.9883\n",
            "Activation Function: relu, Accuracy: 0.9910\n",
            "Activation Function: sigmoid, Accuracy: 0.9901\n",
            "Activation Function: linear, Accuracy: 0.9883\n"
          ]
        }
      ]
    },
    {
      "cell_type": "code",
      "source": [
        "import numpy as np\n",
        "import pandas as pd\n",
        "import seaborn as sns\n",
        "import matplotlib.pyplot as plt\n",
        "from tensorflow.keras.preprocessing.text import Tokenizer\n",
        "from tensorflow.keras.preprocessing.sequence import pad_sequences\n",
        "from tensorflow.keras.models import Sequential\n",
        "from tensorflow.keras.layers import Embedding, LSTM, Dense\n",
        "from sklearn.model_selection import train_test_split\n",
        "from sklearn.metrics import accuracy_score\n",
        "from tabulate import tabulate\n",
        "\n",
        "# بارگذاری داده‌ها\n",
        "url = \"https://raw.githubusercontent.com/justmarkham/DAT8/master/data/sms.tsv\"\n",
        "data = pd.read_csv(url, sep='\\t', header=None, names=['label', 'message'])\n",
        "\n",
        "# تبدیل برچسب‌ها به اعداد (0 برای ham و 1 برای spam)\n",
        "data['label'] = data['label'].map({'ham': 0, 'spam': 1})\n",
        "\n",
        "# حذف سطرهایی که برچسب یا پیام آنها NaN است\n",
        "data.dropna(subset=['label', 'message'], inplace=True)\n",
        "\n",
        "# بررسی تعداد داده‌ها پس از حذف NaN\n",
        "num_samples_after_dropping = len(data)\n",
        "\n",
        "# تقسیم داده‌ها به ویژگی‌ها و برچسب‌ها\n",
        "X = data['message'].values\n",
        "y = data['label'].values\n",
        "\n",
        "# تبدیل متن‌ها به توالی‌های اعداد\n",
        "vocab_size = 10000\n",
        "tokenizer = Tokenizer(num_words=vocab_size)\n",
        "tokenizer.fit_on_texts(X)\n",
        "X_seq = tokenizer.texts_to_sequences(X)\n",
        "\n",
        "# پدینگ کردن توالی‌ها به طول ثابت\n",
        "maxlen = 100\n",
        "X_pad = pad_sequences(X_seq, maxlen=maxlen)\n",
        "\n",
        "# تقسیم داده‌ها به مجموعه آموزش و تست\n",
        "X_train, X_test, y_train, y_test = train_test_split(X_pad, y, test_size=0.2, random_state=42)\n",
        "\n",
        "def create_model(hidden_layers, hidden_size, activation='relu'):\n",
        "    model = Sequential()\n",
        "    model.add(Embedding(input_dim=vocab_size, output_dim=64, input_length=maxlen))\n",
        "    model.add(LSTM(64, return_sequences=False))  # return_sequences=False برای آخرین لایه LSTM\n",
        "    for _ in range(hidden_layers):\n",
        "        model.add(Dense(hidden_size, activation=activation))\n",
        "    model.add(Dense(1, activation='sigmoid'))\n",
        "    model.compile(optimizer='adam', loss='binary_crossentropy', metrics=['accuracy'])\n",
        "    return model\n",
        "\n",
        "# ارزیابی تاثیر توابع فعال‌سازی مختلف\n",
        "activation_functions = ['relu', 'sigmoid', 'linear']\n",
        "results = []\n",
        "\n",
        "for activation in activation_functions:\n",
        "    hidden_layers = 2  # ثابت نگه داشتن تعداد لایه‌های مخفی\n",
        "    hidden_size = 64  # ثابت نگه داشتن اندازه لایه‌های مخفی\n",
        "    model = create_model(hidden_layers, hidden_size, activation=activation)\n",
        "    model.fit(X_train, y_train, epochs=5, batch_size=32, validation_split=0.2, verbose=0)\n",
        "    y_pred = (model.predict(X_test) > 0.5).astype(\"int32\")\n",
        "    accuracy = accuracy_score(y_test, y_pred)\n",
        "    results.append((activation, accuracy))\n",
        "\n",
        "# نمایش نتایج\n",
        "results_table = pd.DataFrame(results, columns=['Activation Function', 'Accuracy'])\n",
        "print(tabulate(results_table, headers='keys', tablefmt='pretty'))\n",
        "\n",
        "# رسم نمودار\n",
        "sns.set(style=\"whitegrid\")\n",
        "plt.figure(figsize=(10, 6))\n",
        "ax = sns.barplot(x='Activation Function', y='Accuracy', data=results_table)\n",
        "ax.set_title('Accuracy vs. Activation Function')\n",
        "ax.set_ylim(0.95, 1.0)\n",
        "for p in ax.patches:\n",
        "    ax.annotate(f'{p.get_height():.4f}', (p.get_x() + p.get_width() / 2., p.get_height()),\n",
        "                ha='center', va='baseline', fontsize=12, color='black', xytext=(0, 5),\n",
        "                textcoords='offset points')\n",
        "plt.show()\n",
        "\n",
        "# نمایش تعداد داده‌ها پس از حذف NaN\n",
        "info_table = pd.DataFrame({\n",
        "    'Description': ['Number of samples after removing NaN values'],\n",
        "    'Value': [num_samples_after_dropping]\n",
        "})\n",
        "print(tabulate(info_table, headers='keys', tablefmt='pretty'))\n"
      ],
      "metadata": {
        "colab": {
          "base_uri": "https://localhost:8080/",
          "height": 833
        },
        "id": "ZkpDYlr8zhUt",
        "outputId": "f42a26ae-4412-447f-e14f-bcd41722a69d"
      },
      "execution_count": 9,
      "outputs": [
        {
          "output_type": "stream",
          "name": "stdout",
          "text": [
            "35/35 [==============================] - 2s 27ms/step\n",
            "35/35 [==============================] - 1s 19ms/step\n",
            "35/35 [==============================] - 1s 19ms/step\n",
            "+---+---------------------+--------------------+\n",
            "|   | Activation Function |      Accuracy      |\n",
            "+---+---------------------+--------------------+\n",
            "| 0 |        relu         | 0.989237668161435  |\n",
            "| 1 |       sigmoid       | 0.9901345291479821 |\n",
            "| 2 |       linear        | 0.9910313901345291 |\n",
            "+---+---------------------+--------------------+\n"
          ]
        },
        {
          "output_type": "display_data",
          "data": {
            "text/plain": [
              "<Figure size 1000x600 with 1 Axes>"
            ],
            "image/png": "[encoded data removed]"
          },
          "metadata": {}
        },
        {
          "output_type": "stream",
          "name": "stdout",
          "text": [
            "+---+---------------------------------------------+-------+\n",
            "|   |                 Description                 | Value |\n",
            "+---+---------------------------------------------+-------+\n",
            "| 0 | Number of samples after removing NaN values | 5572  |\n",
            "+---+---------------------------------------------+-------+\n"
          ]
        }
      ]
    }
  ],
  "metadata": {
    "colab": {
      "provenance": []
    },
    "kernelspec": {
      "display_name": "Python 3",
      "name": "python3"
    },
    "language_info": {
      "name": "python"
    }
  },
  "nbformat": 4,
  "nbformat_minor": 0
}